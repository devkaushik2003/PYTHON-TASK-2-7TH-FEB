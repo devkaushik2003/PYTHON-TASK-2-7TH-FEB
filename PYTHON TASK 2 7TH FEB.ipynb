{
 "cells": [
  {
   "cell_type": "code",
   "execution_count": 43,
   "id": "4fbd4179-7b49-4d7e-b7b0-b91566ec5578",
   "metadata": {
    "tags": []
   },
   "outputs": [
    {
     "name": "stdout",
     "output_type": "stream",
     "text": [
      "invalid password\n"
     ]
    }
   ],
   "source": [
    "import re\n",
    "count = 0\n",
    "dev = \"DevKau1@#$\"\n",
    "if(len(dev) == 10):\n",
    "    for i in dev:\n",
    "        if(i.isupper()==True and i.islower()==True and i.isnumeric()==True and bool(re.search(dev,'[@_!#$%^&*()<>?/\\|}{~:]')) == True ):\n",
    "            count=count+1\n",
    "\n",
    "if(count>1):\n",
    "    print(\"valid password\")\n",
    "else:\n",
    "    print(\"invalid password\")\n",
    "\n",
    "            \n",
    "            \n",
    "    \n",
    "    "
   ]
  },
  {
   "cell_type": "code",
   "execution_count": 49,
   "id": "5ba2a1a7-a5eb-4cd7-9f3e-e9b8d65ee341",
   "metadata": {
    "tags": []
   },
   "outputs": [
    {
     "name": "stdin",
     "output_type": "stream",
     "text": [
      "enter your string-> kaushik\n"
     ]
    },
    {
     "name": "stdout",
     "output_type": "stream",
     "text": [
      "True\n"
     ]
    }
   ],
   "source": [
    "#check if the string starts with a particular letter \n",
    "string  = input(\"enter your string->\")\n",
    "key = \"k\"\n",
    "if(string[0] == key):\n",
    "    print(True)\n",
    "else:\n",
    "    print(False) \n"
   ]
  },
  {
   "cell_type": "code",
   "execution_count": 57,
   "id": "c93f18a9-e0a3-40e1-a5a8-90a4101cbd66",
   "metadata": {
    "tags": []
   },
   "outputs": [
    {
     "data": {
      "text/plain": [
       "True"
      ]
     },
     "execution_count": 57,
     "metadata": {},
     "output_type": "execute_result"
    }
   ],
   "source": [
    "#check if the string is numeric\n",
    "string1 = \"123\"\n",
    "string1.isnumeric()\n"
   ]
  },
  {
   "cell_type": "code",
   "execution_count": 66,
   "id": "b5b2c54b-4010-4fac-8e5c-55487cfdc74a",
   "metadata": {},
   "outputs": [
    {
     "name": "stdout",
     "output_type": "stream",
     "text": [
      "[('grapes', 1000), ('mango', 99), ('orange', 80)]\n"
     ]
    }
   ],
   "source": [
    "#sort a list of tuples having fruit names and their qunatity \n",
    "l = [(\"mango\",99),(\"orange\",80),(\"grapes\",1000)]\n",
    "l.sort()\n",
    "print(l)\n"
   ]
  },
  {
   "cell_type": "code",
   "execution_count": 71,
   "id": "885ef802-442e-4944-8f7a-478ad5708022",
   "metadata": {},
   "outputs": [
    {
     "data": {
      "text/plain": [
       "[1, 4, 9, 16, 25, 36, 49, 64, 81, 100]"
      ]
     },
     "execution_count": 71,
     "metadata": {},
     "output_type": "execute_result"
    }
   ],
   "source": [
    "# find the square from 1 to 10\n",
    "l = []\n",
    "for i in range(1,11):\n",
    "    l.append(i)\n",
    "list(map(lambda x: x*x,l))"
   ]
  },
  {
   "cell_type": "code",
   "execution_count": 73,
   "id": "3b922466-946f-4e25-bc44-8fa80f540928",
   "metadata": {
    "tags": []
   },
   "outputs": [
    {
     "data": {
      "text/plain": [
       "[1.0,\n",
       " 1.2599210498948732,\n",
       " 1.4422495703074083,\n",
       " 1.5874010519681994,\n",
       " 1.7099759466766968,\n",
       " 1.8171205928321397,\n",
       " 1.912931182772389,\n",
       " 2.0,\n",
       " 2.080083823051904,\n",
       " 2.154434690031884]"
      ]
     },
     "execution_count": 73,
     "metadata": {},
     "output_type": "execute_result"
    }
   ],
   "source": [
    "# find the cube roots of number to 1 to 10\n",
    "l = []\n",
    "for i in range(1,11):\n",
    "    l.append(i)\n",
    "list(map(lambda x: x**(1/3),l))"
   ]
  },
  {
   "cell_type": "code",
   "execution_count": 77,
   "id": "221bcfc8-b2f1-4012-b00c-e93c0a101cbe",
   "metadata": {
    "tags": []
   },
   "outputs": [
    {
     "name": "stdin",
     "output_type": "stream",
     "text": [
      " 2\n"
     ]
    },
    {
     "name": "stdout",
     "output_type": "stream",
     "text": [
      "True\n"
     ]
    }
   ],
   "source": [
    "#check if given number is even or not\n",
    "num = int(input())\n",
    "a = lambda x: x%2==0\n",
    "print(a(num))"
   ]
  },
  {
   "cell_type": "raw",
   "id": "afb298b5-ba80-42cc-a750-64907bdda1af",
   "metadata": {
    "tags": []
   },
   "source": []
  },
  {
   "cell_type": "code",
   "execution_count": 81,
   "id": "11b38585-516d-4cd5-96c2-78e7ee585da8",
   "metadata": {},
   "outputs": [
    {
     "data": {
      "text/plain": [
       "[1, 3, 5, 7, 9]"
      ]
     },
     "execution_count": 81,
     "metadata": {},
     "output_type": "execute_result"
    }
   ],
   "source": [
    "#filter odd numbers from the given list\n",
    "l  = [1,2,3,4,5,6,7,8,9,10]\n",
    "list(filter(lambda x: x%2!=0,l))"
   ]
  },
  {
   "cell_type": "code",
   "execution_count": 84,
   "id": "03bfbff3-187e-4638-a1f9-9e89312796a8",
   "metadata": {
    "tags": []
   },
   "outputs": [
    {
     "name": "stdout",
     "output_type": "stream",
     "text": [
      "[1, 2, 3, 4, 5, 6, 0]\n",
      "[-1, -2, -3, -4, -5]\n"
     ]
    }
   ],
   "source": [
    "#sort list in positive and negative integers\n",
    "l = [1,2,3,4,5,6,-1,-2,-3,-4,-5,0]\n",
    "l1 = [i for i in l if i>=0 ]\n",
    "l2 = [i for i in l if i<0]\n",
    "print(l1)\n",
    "print(l2)\n"
   ]
  },
  {
   "cell_type": "code",
   "execution_count": null,
   "id": "db32df27-aa54-4c3e-a27f-47d7ccc95d1e",
   "metadata": {},
   "outputs": [],
   "source": []
  }
 ],
 "metadata": {
  "kernelspec": {
   "display_name": "Python 3 (ipykernel)",
   "language": "python",
   "name": "python3"
  },
  "language_info": {
   "codemirror_mode": {
    "name": "ipython",
    "version": 3
   },
   "file_extension": ".py",
   "mimetype": "text/x-python",
   "name": "python",
   "nbconvert_exporter": "python",
   "pygments_lexer": "ipython3",
   "version": "3.10.0"
  }
 },
 "nbformat": 4,
 "nbformat_minor": 5
}
